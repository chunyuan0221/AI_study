{
  "nbformat": 4,
  "nbformat_minor": 0,
  "metadata": {
    "colab": {
      "name": "result_to_csv.ipynb",
      "provenance": [],
      "collapsed_sections": [],
      "authorship_tag": "ABX9TyOLAId7tTI99gDpIXsSqUsr",
      "include_colab_link": true
    },
    "kernelspec": {
      "name": "python3",
      "display_name": "Python 3"
    },
    "accelerator": "GPU"
  },
  "cells": [
    {
      "cell_type": "markdown",
      "metadata": {
        "id": "view-in-github",
        "colab_type": "text"
      },
      "source": [
        "<a href=\"https://colab.research.google.com/github/chunyuan0221/AI_study/blob/master/result_to_csv.ipynb\" target=\"_parent\"><img src=\"https://colab.research.google.com/assets/colab-badge.svg\" alt=\"Open In Colab\"/></a>"
      ]
    },
    {
      "cell_type": "code",
      "metadata": {
        "id": "f-s-bVBTtaOz",
        "colab_type": "code",
        "outputId": "c1ead9ac-4c01-4c9b-ea0d-55b12a2bd18a",
        "colab": {
          "base_uri": "https://localhost:8080/",
          "height": 121
        }
      },
      "source": [
        "import os\n",
        "from google.colab import drive\n",
        "path = drive.mount('/content/drive/')"
      ],
      "execution_count": 1,
      "outputs": [
        {
          "output_type": "stream",
          "text": [
            "Go to this URL in a browser: https://accounts.google.com/o/oauth2/auth?client_id=947318989803-6bn6qk8qdgf4n4g3pfee6491hc0brc4i.apps.googleusercontent.com&redirect_uri=urn%3aietf%3awg%3aoauth%3a2.0%3aoob&response_type=code&scope=email%20https%3a%2f%2fwww.googleapis.com%2fauth%2fdocs.test%20https%3a%2f%2fwww.googleapis.com%2fauth%2fdrive%20https%3a%2f%2fwww.googleapis.com%2fauth%2fdrive.photos.readonly%20https%3a%2f%2fwww.googleapis.com%2fauth%2fpeopleapi.readonly\n",
            "\n",
            "Enter your authorization code:\n",
            "··········\n",
            "Mounted at /content/drive/\n"
          ],
          "name": "stdout"
        }
      ]
    },
    {
      "cell_type": "code",
      "metadata": {
        "id": "UsFV09_CthKA",
        "colab_type": "code",
        "outputId": "2ccd0df2-f07b-49a9-a466-6b8e63aa8458",
        "colab": {
          "base_uri": "https://localhost:8080/",
          "height": 269
        }
      },
      "source": [
        "os.listdir('drive/My Drive/ai_study/ultrasound-nerve-segmentation')"
      ],
      "execution_count": 2,
      "outputs": [
        {
          "output_type": "execute_result",
          "data": {
            "text/plain": [
              "['imgs_id_test.npy',\n",
              " 'imgs_test.npy',\n",
              " 'imgs_train.npy',\n",
              " 'imgs_mask_train.npy',\n",
              " 'data.py',\n",
              " '__pycache__',\n",
              " 'preds',\n",
              " 'submission.csv',\n",
              " 'Data preprocess(ndarray說明).ipynb',\n",
              " 'weights.h5',\n",
              " 'imgs_mask_test.npy',\n",
              " 'u-net-architecture.png',\n",
              " 'model_training.ipynb',\n",
              " 'ultrasound-nerve-segmentation_kaggle_score.png',\n",
              " 'result_to_csv.ipynb']"
            ]
          },
          "metadata": {
            "tags": []
          },
          "execution_count": 2
        }
      ]
    },
    {
      "cell_type": "code",
      "metadata": {
        "id": "TW6W-_T_uSbs",
        "colab_type": "code",
        "outputId": "cdca4acb-fa2f-488a-f829-933f6b1e7d8c",
        "colab": {
          "base_uri": "https://localhost:8080/",
          "height": 34
        }
      },
      "source": [
        "cd 'drive/My Drive/ai_study/ultrasound-nerve-segmentation'"
      ],
      "execution_count": 3,
      "outputs": [
        {
          "output_type": "stream",
          "text": [
            "/content/drive/My Drive/ai_study/ultrasound-nerve-segmentation\n"
          ],
          "name": "stdout"
        }
      ]
    },
    {
      "cell_type": "code",
      "metadata": {
        "id": "74kb4aZEuVPt",
        "colab_type": "code",
        "outputId": "cec444f3-0478-45be-c9f1-584ca610e7e9",
        "colab": {
          "base_uri": "https://localhost:8080/",
          "height": 269
        }
      },
      "source": [
        "ls"
      ],
      "execution_count": 4,
      "outputs": [
        {
          "output_type": "stream",
          "text": [
            "'Data preprocess(ndarray說明).ipynb'\n",
            " data.py\n",
            " imgs_id_test.npy\n",
            " imgs_mask_test.npy\n",
            " imgs_mask_train.npy\n",
            " imgs_test.npy\n",
            " imgs_train.npy\n",
            " model_training.ipynb\n",
            " \u001b[0m\u001b[01;34mpreds\u001b[0m/\n",
            " \u001b[01;34m__pycache__\u001b[0m/\n",
            " result_to_csv.ipynb\n",
            " submission.csv\n",
            " ultrasound-nerve-segmentation_kaggle_score.png\n",
            " u-net-architecture.png\n",
            " weights.h5\n"
          ],
          "name": "stdout"
        }
      ]
    },
    {
      "cell_type": "code",
      "metadata": {
        "id": "vcxKnRUitLMp",
        "colab_type": "code",
        "colab": {}
      },
      "source": [
        "from __future__ import print_function\n",
        "\n",
        "import numpy as np\n",
        "from skimage.transform import resize\n",
        "from data import image_cols, image_rows"
      ],
      "execution_count": 0,
      "outputs": []
    },
    {
      "cell_type": "code",
      "metadata": {
        "id": "kte8y2aHtRc2",
        "colab_type": "code",
        "colab": {}
      },
      "source": [
        "def prep(img):\n",
        "    img = img.astype('float32')\n",
        "    img = (img > 0.5).astype(np.uint8)  # threshold\n",
        "    img = resize(img, (image_cols, image_rows), preserve_range=True)\n",
        "    return img"
      ],
      "execution_count": 0,
      "outputs": []
    },
    {
      "cell_type": "code",
      "metadata": {
        "id": "9jq7kpeptUth",
        "colab_type": "code",
        "colab": {}
      },
      "source": [
        "def run_length_enc(label):\n",
        "    from itertools import chain\n",
        "    x = label.transpose().flatten()\n",
        "    y = np.where(x > 0)[0]\n",
        "    if len(y) < 10:  # consider as empty\n",
        "        return ''\n",
        "    z = np.where(np.diff(y) > 1)[0]\n",
        "    start = np.insert(y[z+1], 0, y[0])\n",
        "    end = np.append(y[z], y[-1])\n",
        "    length = end - start\n",
        "    res = [[s+1, l+1] for s, l in zip(list(start), list(length))]\n",
        "    res = list(chain.from_iterable(res))\n",
        "    return ' '.join([str(r) for r in res])"
      ],
      "execution_count": 0,
      "outputs": []
    },
    {
      "cell_type": "code",
      "metadata": {
        "id": "uin3o_18ubGj",
        "colab_type": "code",
        "colab": {}
      },
      "source": [
        "def submission():\n",
        "    from data import load_test_data\n",
        "    imgs_test, imgs_id_test = load_test_data()\n",
        "    imgs_test = np.load('imgs_mask_test.npy')\n",
        "\n",
        "    argsort = np.argsort(imgs_id_test)\n",
        "    imgs_id_test = imgs_id_test[argsort]\n",
        "    imgs_test = imgs_test[argsort]\n",
        "\n",
        "    total = imgs_test.shape[0]\n",
        "    ids = []\n",
        "    rles = []\n",
        "    for i in range(total):\n",
        "        img = imgs_test[i, 0]\n",
        "        img = prep(img)\n",
        "        rle = run_length_enc(img)\n",
        "\n",
        "        rles.append(rle)\n",
        "        ids.append(imgs_id_test[i])\n",
        "\n",
        "        if i % 100 == 0:\n",
        "            print('{}/{}'.format(i, total))\n",
        "\n",
        "    first_row = 'img,pixels'\n",
        "    file_name = 'submission.csv'\n",
        "\n",
        "    with open(file_name, 'w+') as f:\n",
        "        f.write(first_row + '\\n')\n",
        "        for i in range(total):\n",
        "            s = str(ids[i]) + ',' + rles[i]\n",
        "            f.write(s + '\\n')"
      ],
      "execution_count": 0,
      "outputs": []
    },
    {
      "cell_type": "code",
      "metadata": {
        "id": "Viqn3nahuekb",
        "colab_type": "code",
        "outputId": "d959b89c-fe5a-4af4-c3c2-5fae9faf9e6b",
        "colab": {
          "base_uri": "https://localhost:8080/",
          "height": 958
        }
      },
      "source": [
        "submission()"
      ],
      "execution_count": 9,
      "outputs": [
        {
          "output_type": "stream",
          "text": [
            "0/5508\n",
            "100/5508\n",
            "200/5508\n",
            "300/5508\n",
            "400/5508\n",
            "500/5508\n",
            "600/5508\n",
            "700/5508\n",
            "800/5508\n",
            "900/5508\n",
            "1000/5508\n",
            "1100/5508\n",
            "1200/5508\n",
            "1300/5508\n",
            "1400/5508\n",
            "1500/5508\n",
            "1600/5508\n",
            "1700/5508\n",
            "1800/5508\n",
            "1900/5508\n",
            "2000/5508\n",
            "2100/5508\n",
            "2200/5508\n",
            "2300/5508\n",
            "2400/5508\n",
            "2500/5508\n",
            "2600/5508\n",
            "2700/5508\n",
            "2800/5508\n",
            "2900/5508\n",
            "3000/5508\n",
            "3100/5508\n",
            "3200/5508\n",
            "3300/5508\n",
            "3400/5508\n",
            "3500/5508\n",
            "3600/5508\n",
            "3700/5508\n",
            "3800/5508\n",
            "3900/5508\n",
            "4000/5508\n",
            "4100/5508\n",
            "4200/5508\n",
            "4300/5508\n",
            "4400/5508\n",
            "4500/5508\n",
            "4600/5508\n",
            "4700/5508\n",
            "4800/5508\n",
            "4900/5508\n",
            "5000/5508\n",
            "5100/5508\n",
            "5200/5508\n",
            "5300/5508\n",
            "5400/5508\n",
            "5500/5508\n"
          ],
          "name": "stdout"
        }
      ]
    }
  ]
}