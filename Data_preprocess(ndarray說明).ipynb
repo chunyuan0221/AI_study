{
  "nbformat": 4,
  "nbformat_minor": 0,
  "metadata": {
    "colab": {
      "name": "Data preprocess(ndarray說明).ipynb",
      "provenance": [],
      "collapsed_sections": [],
      "authorship_tag": "ABX9TyNhoXvNKazF85Egv/AZJljj",
      "include_colab_link": true
    },
    "kernelspec": {
      "name": "python3",
      "display_name": "Python 3"
    }
  },
  "cells": [
    {
      "cell_type": "markdown",
      "metadata": {
        "id": "view-in-github",
        "colab_type": "text"
      },
      "source": [
        "<a href=\"https://colab.research.google.com/github/chunyuan0221/AI_study/blob/master/Data_preprocess(ndarray%E8%AA%AA%E6%98%8E).ipynb\" target=\"_parent\"><img src=\"https://colab.research.google.com/assets/colab-badge.svg\" alt=\"Open In Colab\"/></a>"
      ]
    },
    {
      "cell_type": "code",
      "metadata": {
        "id": "f7-z03nTuqud",
        "colab_type": "code",
        "colab": {}
      },
      "source": [
        "from google.colab import files\n",
        "files.upload()"
      ],
      "execution_count": 0,
      "outputs": []
    },
    {
      "cell_type": "code",
      "metadata": {
        "id": "IcebpOqdzkro",
        "colab_type": "code",
        "colab": {
          "base_uri": "https://localhost:8080/",
          "height": 34
        },
        "outputId": "623013e5-cee2-49e7-e784-011a160b1ac0"
      },
      "source": [
        "ls"
      ],
      "execution_count": 1,
      "outputs": [
        {
          "output_type": "stream",
          "text": [
            "1_1_mask.tif  1_1.tif  1_2_mask.tif  1_2.tif  \u001b[0m\u001b[01;34msample_data\u001b[0m/\n"
          ],
          "name": "stdout"
        }
      ]
    },
    {
      "cell_type": "code",
      "metadata": {
        "id": "PF3-e6B7z1zX",
        "colab_type": "code",
        "colab": {
          "base_uri": "https://localhost:8080/",
          "height": 79
        },
        "outputId": "1767358a-0305-4345-8d14-ebee73fedd8b"
      },
      "source": [
        "import numpy as np\n",
        "from skimage.io import imread, imsave\n",
        "import os\n",
        "from keras.preprocessing.image import img_to_array, load_img"
      ],
      "execution_count": 2,
      "outputs": [
        {
          "output_type": "stream",
          "text": [
            "Using TensorFlow backend.\n"
          ],
          "name": "stderr"
        },
        {
          "output_type": "display_data",
          "data": {
            "text/html": [
              "<p style=\"color: red;\">\n",
              "The default version of TensorFlow in Colab will soon switch to TensorFlow 2.x.<br>\n",
              "We recommend you <a href=\"https://www.tensorflow.org/guide/migrate\" target=\"_blank\">upgrade</a> now \n",
              "or ensure your notebook will continue to use TensorFlow 1.x via the <code>%tensorflow_version 1.x</code> magic:\n",
              "<a href=\"https://colab.research.google.com/notebooks/tensorflow_version.ipynb\" target=\"_blank\">more info</a>.</p>\n"
            ],
            "text/plain": [
              "<IPython.core.display.HTML object>"
            ]
          },
          "metadata": {
            "tags": []
          }
        }
      ]
    },
    {
      "cell_type": "code",
      "metadata": {
        "id": "voeMvwOi0ARK",
        "colab_type": "code",
        "colab": {}
      },
      "source": [
        "image_rows = 420\n",
        "image_cols = 580\n",
        "\n",
        "images = []\n",
        "for i in os.listdir():\n",
        "  split_num = len(i.split('.'))\n",
        "  if split_num == 2:\n",
        "    if i.split('.')[1] == 'tif':\n",
        "      images.append(i)\n",
        "\n",
        "total = np.int(len(images) / 2)"
      ],
      "execution_count": 0,
      "outputs": []
    },
    {
      "cell_type": "markdown",
      "metadata": {
        "id": "2a_u6hFTVoYE",
        "colab_type": "text"
      },
      "source": [
        "### 做Data preprocessing時遇到的問題\n",
        "***\n",
        "- np.ndarray(shape, dtype=float, buffer=None, offset=0) : \n",
        "  - shape: 用turple型式給定陣列大小。ex:建立一個$3\\times480\\times540$的陣列空間來放置3張$480\\times540$大小的圖片，**則以此表示: (3, 480, 540)**。  \n",
        "   **注意**: shape內填的值要為$int$型態，不可是$float$，ex: (3.0, 480.0, 540.0) 在3.7版的python這樣會報錯\n",
        "  - dtype: 給定陣列的型態，預設為$float$。 \n",
        "  - buffer: 要放到這個陣列的資料透過buffer可以直接放入，但buffer資料的shape和我們建立的array shape要一致。\n",
        "  - offset: 透過offset可修改buffer內的資料。\n",
        "  - 小結: \n",
        "    1. 透過ndarray已經先宣告array的大小，因此我們可以直接給值。  \n",
        "     ex: 我們手邊有3張圖片，我們想將這3張圖片合併在1個array中。用np.ndarray建立好一個A，A.shape = (3, 480, 540)，接著依序將圖片放入A中。\n",
        "            A = np.ndarray((3, 480, 540), dtype=np.uint8)\n",
        "            print(A.shape)    # A.shape=(3, 480, 540)\n",
        "            for i in images:  # images代表三張圖片\n",
        "              A[0] = i\n",
        "      \n",
        "    2. 在這邊我很好奇，ndarray建立出來後裡面的數值長怎樣? 若我們給的dtype=int 內部的數值皆為0；若dtype=float 內部的結果有0、有逼近0的小數、有None。\n",
        "    3. 因此，你也可用 np.zeros(shape, dtype) 來表示，思維上更簡單多。\n",
        "\n"
      ]
    },
    {
      "cell_type": "code",
      "metadata": {
        "colab_type": "code",
        "id": "ELetN4sTkurU",
        "colab": {
          "base_uri": "https://localhost:8080/",
          "height": 34
        },
        "outputId": "f47e3c55-ed50-4bba-f250-f4b87de98790"
      },
      "source": [
        "# 示範buffer\n",
        "a = np.arange(0, 480*540, 1)\n",
        "a = a.reshape((-1, 480, 540))\n",
        "print(a.shape)\n",
        "imgs = np.ndarray((1, image_rows, image_cols), buffer=a)"
      ],
      "execution_count": 4,
      "outputs": [
        {
          "output_type": "stream",
          "text": [
            "(1, 480, 540)\n"
          ],
          "name": "stdout"
        }
      ]
    },
    {
      "cell_type": "code",
      "metadata": {
        "id": "EDVGmzNhFa54",
        "colab_type": "code",
        "colab": {
          "base_uri": "https://localhost:8080/",
          "height": 151
        },
        "outputId": "3954e6fa-836f-4f2f-80af-eab91729be14"
      },
      "source": [
        "imgs = np.ndarray((total, image_rows, image_cols), dtype=np.uint8)\n",
        "imgs_mask = np.ndarray((total, image_rows, image_cols), dtype=np.uint8)\n",
        "print(imgs.shape)\n",
        "imgs[0]"
      ],
      "execution_count": 5,
      "outputs": [
        {
          "output_type": "stream",
          "text": [
            "(2, 420, 580)\n"
          ],
          "name": "stdout"
        },
        {
          "output_type": "execute_result",
          "data": {
            "text/plain": [
              "array([[0, 0, 0, ..., 0, 0, 0],\n",
              "       [0, 0, 0, ..., 0, 0, 0],\n",
              "       [0, 0, 0, ..., 0, 0, 0],\n",
              "       ...,\n",
              "       [0, 0, 0, ..., 0, 0, 0],\n",
              "       [0, 0, 0, ..., 0, 0, 0],\n",
              "       [0, 0, 0, ..., 0, 0, 0]], dtype=uint8)"
            ]
          },
          "metadata": {
            "tags": []
          },
          "execution_count": 5
        }
      ]
    },
    {
      "cell_type": "code",
      "metadata": {
        "id": "Z4J4n4jpUZNl",
        "colab_type": "code",
        "colab": {
          "base_uri": "https://localhost:8080/",
          "height": 151
        },
        "outputId": "98e99faa-4931-4e3a-e302-558a47bf933d"
      },
      "source": [
        "imgs1 = np.zeros((total, image_rows, image_cols), dtype=np.uint8)\n",
        "print(imgs1.shape)\n",
        "imgs1[0]"
      ],
      "execution_count": 6,
      "outputs": [
        {
          "output_type": "stream",
          "text": [
            "(2, 420, 580)\n"
          ],
          "name": "stdout"
        },
        {
          "output_type": "execute_result",
          "data": {
            "text/plain": [
              "array([[0, 0, 0, ..., 0, 0, 0],\n",
              "       [0, 0, 0, ..., 0, 0, 0],\n",
              "       [0, 0, 0, ..., 0, 0, 0],\n",
              "       ...,\n",
              "       [0, 0, 0, ..., 0, 0, 0],\n",
              "       [0, 0, 0, ..., 0, 0, 0],\n",
              "       [0, 0, 0, ..., 0, 0, 0]], dtype=uint8)"
            ]
          },
          "metadata": {
            "tags": []
          },
          "execution_count": 6
        }
      ]
    },
    {
      "cell_type": "code",
      "metadata": {
        "id": "Q_t1Cbatle81",
        "colab_type": "code",
        "colab": {}
      },
      "source": [
        "i = 0\n",
        "for image_name in images:    # 因為檔案名稱的差別只有\"_mask\"，沒有\"_mask\"是input data，有\"_mask\"的是output data(label)\n",
        "  if 'mask' in image_name:   # 為了讓每次迴圈能同時處理同1組資料，以這樣表示\n",
        "    continue\n",
        "  image_mask_name = image_name.split('.')[0] + '_mask.tif'\n",
        "  img = imread(image_name, as_gray=True)\n",
        "  img_mask = imread(image_mask_name, as_gray=True)\n",
        "\n",
        "  # 原始資料的shape=(480, 540)，需增加1個維度=>(1, 480, 540)後面才能放入\n",
        "  img = np.array([img])\n",
        "  img_mask = np.array([img_mask])\n",
        "\n",
        "  # 放資料\n",
        "  imgs[i] = img\n",
        "  imgs_mask[i] = img_mask\n",
        "  i += 1"
      ],
      "execution_count": 0,
      "outputs": []
    },
    {
      "cell_type": "code",
      "metadata": {
        "id": "UeiR_4NGrt-Y",
        "colab_type": "code",
        "colab": {
          "base_uri": "https://localhost:8080/",
          "height": 151
        },
        "outputId": "3c43e691-ddc6-47b3-855d-6ca6751c186f"
      },
      "source": [
        "# 看結果，沒問題。後續可儲存.npy檔\n",
        "print(imgs.shape)\n",
        "imgs[0]"
      ],
      "execution_count": 8,
      "outputs": [
        {
          "output_type": "stream",
          "text": [
            "(2, 420, 580)\n"
          ],
          "name": "stdout"
        },
        {
          "output_type": "execute_result",
          "data": {
            "text/plain": [
              "array([[  0,  30,  40, ..., 108, 111, 109],\n",
              "       [  0, 101,  79, ..., 161, 162, 159],\n",
              "       [  0, 167, 137, ..., 165, 165, 163],\n",
              "       ...,\n",
              "       [  0,  58,  45, ...,  23,  22,  22],\n",
              "       [  0,  59,  48, ...,  20,  19,  19],\n",
              "       [  0,  98,  82, ...,  15,  13,  13]], dtype=uint8)"
            ]
          },
          "metadata": {
            "tags": []
          },
          "execution_count": 8
        }
      ]
    }
  ]
}